{
 "cells": [
  {
   "cell_type": "markdown",
   "metadata": {},
   "source": [
    "## loading dataset"
   ]
  },
  {
   "cell_type": "code",
   "execution_count": 1,
   "metadata": {
    "collapsed": true
   },
   "outputs": [],
   "source": [
    "import pandas as pd\n",
    "import numpy as np"
   ]
  },
  {
   "cell_type": "code",
   "execution_count": 3,
   "metadata": {
    "collapsed": false
   },
   "outputs": [],
   "source": [
    "df_proms = pd.read_csv('radoncPROMS.csv')\n"
   ]
  },
  {
   "cell_type": "markdown",
   "metadata": {},
   "source": [
    "# 1. Select patients seen for breast condition, then drop empty columns"
   ]
  },
  {
   "cell_type": "code",
   "execution_count": 6,
   "metadata": {
    "collapsed": false
   },
   "outputs": [
    {
     "name": "stdout",
     "output_type": "stream",
     "text": [
      "6261\n"
     ]
    }
   ],
   "source": [
    "df_breast_proms = df_proms[df_proms['1. What_condition_is_this_patient_here_for?'] == 'Breast']\n",
    "print len(df_breast_proms.index)"
   ]
  },
  {
   "cell_type": "code",
   "execution_count": 13,
   "metadata": {
    "collapsed": false
   },
   "outputs": [
    {
     "name": "stdout",
     "output_type": "stream",
     "text": [
      "['response_id' 'EMPI' 'MRN' 'FACT-G7_Score'\n",
      " 'PROMIS-10_General_Physical_Health_Score'\n",
      " 'PROMIS-10_General_Mental_Health_Score'\n",
      " '1. What_condition_is_this_patient_here_for?'\n",
      " '2. Is_the_patient_here_for_a_Baseline/Follow-up_appointment_or_OTV?'\n",
      " '10. Which_of_the_following_do_you_currently_have? (Own (native) bladder)'\n",
      " '10. Which_of_the_following_do_you_currently_have? (Ileal conduit/ ostomy)'\n",
      " '10. Which_of_the_following_do_you_currently_have? (Neo-bladder)'\n",
      " '10. Which_of_the_following_do_you_currently_have? (Continent urinary diversion/catheterizable pouch)'\n",
      " '10. Which_of_the_following_do_you_currently_have? (Other)'\n",
      " '70. In_the_past_7_days:_I_have_been_short_of_breath'\n",
      " '71. In_the_past_7_days:_I_am_self-conscious_about_the_way_I_dress'\n",
      " '72. In_the_past_7_days:_One_or_both_of_my_arms_are_swollen_or_tender'\n",
      " '73. In_the_past_7_days:I_feel_sexually_attractive'\n",
      " '74. In_the_past_7_days:_I_am_bothered_by_hair_loss'\n",
      " '75. In_the_past_7_days:_I_worry_that_other_members_of_my_family_might_someday_get_the_same_illness_I_have'\n",
      " '76. In_the_past_7_days:_I_worry_about_the_effect_of_stress_on_my_illness'\n",
      " '77. In_the_past_7_days:_I_am_bothered_by_a_change_in_weight'\n",
      " '78. In_the_past_7_days:I_am_able_to_feel_like_a_woman'\n",
      " '79. In_the_past_7_days:_I_have_certain_parts_of_my_body_where_I_experience_pain'\n",
      " '119. In_the_past_7_days:_I_have_a_lack_of_energy.'\n",
      " '120. In_the_past_7_days:_I_have_pain.'\n",
      " '121. In_the_past_7_days:_I_have_nausea.'\n",
      " '122. In_the_past_7_days:_I_worry_that_my_condition_will_get_worse.'\n",
      " '123. In_the_past_7_days:_I_am_sleeping_well.'\n",
      " '124. In_the_past_7_days:_I_am_able_to_enjoy_life.'\n",
      " '125. In_the_past_7_days:_I_am_content_with_the_quality_of_my_life_right_now.'\n",
      " '220. Have_you_used,_or_are_you_currently_using,_any_of_the_following_medications,_treatments,_or_devices_to_aid_or_improve_erections? (Oral medications for erectile dysfunction (Viagra, Levitra, Cialis))'\n",
      " '220. Have_you_used,_or_are_you_currently_using,_any_of_the_following_medications,_treatments,_or_devices_to_aid_or_improve_erections? (MUSE (intra-urethral alprostadil suppository))'\n",
      " '220. Have_you_used,_or_are_you_currently_using,_any_of_the_following_medications,_treatments,_or_devices_to_aid_or_improve_erections? (Penile injection therapy (such as Cavarject))'\n",
      " '220. Have_you_used,_or_are_you_currently_using,_any_of_the_following_medications,_treatments,_or_devices_to_aid_or_improve_erections? (Vacuum erection device (such as Erect-Aid))'\n",
      " '220. Have_you_used,_or_are_you_currently_using,_any_of_the_following_medications,_treatments,_or_devices_to_aid_or_improve_erections? (Penile prosthesis)'\n",
      " '220. Have_you_used,_or_are_you_currently_using,_any_of_the_following_medications,_treatments,_or_devices_to_aid_or_improve_erections? (No treatment (none of the above))'\n",
      " '440. Do_you_have_any_tenderness,_discomfort_or_pain_of_your_skin_in_the_treatment_area?'\n",
      " '441. Does_your_skin_in_the_treatment_area_itch?'\n",
      " '442. Do_you_have_a_burning_sensation_of_your_skin_in_the_treatment_area?'\n",
      " '443. To_what_extent_has_your_skin_reaction_and_your_symptoms_affected_your_day-to-day_activities?'\n",
      " '444. I_feel_tired.' '445. I_am_able_to_do_my_usual_activities.'\n",
      " '446. I_need_to_sleep_during_the_day.'\n",
      " '447. How_would_you_rate_your_overall_quality_of_life_during_the_past_week?'\n",
      " '631. In_general,_would_you_say_your_health_is:'\n",
      " '632. In_general,_would_you_say_your_quality_of life_is:'\n",
      " '633. In_general,_how_would_you_rate_your_physical_health?'\n",
      " '634. In_general,_how_would_you_rate_your_mental_health,_including_your_mood_and_your_ability_to_think?'\n",
      " '635. In_general,_how_would_you_rate_your_satisfaction_with_your_social_activities_and_relationships?'\n",
      " '636. In_general,_please_rate_how_well_you_carry_out your_usual_social_activities_and_roles._(This includes_activities_at_home,_at_work_and_in_your_community,_and_responsibilities_as_a_parent, child,_spouse,_employee,_friend,_etc.)'\n",
      " '637. To_what_extent_are_you_able_to_carry_out_your_everyday_physical_activities_such_as_walking,_climbing_stairs,_carrying_groceries,_or_moving_a_chair?'\n",
      " '638. In_the_past_7_days:How_often_have_you_been_bothered_by_emotional_problems_such_as_feeling_anxious,_depressed_or_irritable?'\n",
      " '639. In_the_past_7_days:How_would_you_rate_your_fatigue_on_average?'\n",
      " '640. In_the_past_7_days:How_would_you_rate_your_pain_on_average?'\n",
      " 'date_of_submission' 'user_email']\n"
     ]
    }
   ],
   "source": [
    "df_breast = df_breast_proms.dropna(axis=1, how='all')\n",
    "print df_breast.columns.values"
   ]
  },
  {
   "cell_type": "code",
   "execution_count": 20,
   "metadata": {
    "collapsed": false
   },
   "outputs": [],
   "source": [
    "df_breast = df_breast.rename(columns={\"1. What_condition_is_this_patient_here_for?\":\"condition\", \n",
    "                          \"2. Is_the_patient_here_for_a_Baseline/Follow-up_appointment_or_OTV?\":'visit_type' })"
   ]
  },
  {
   "cell_type": "markdown",
   "metadata": {},
   "source": [
    "## Checking how many visits of each type. 3240 baseline/fu visits and 3009 OTVs."
   ]
  },
  {
   "cell_type": "code",
   "execution_count": 64,
   "metadata": {
    "collapsed": false
   },
   "outputs": [
    {
     "data": {
      "text/plain": [
       "Baseline/Follow-Up    3240\n",
       "OTV                   3009\n",
       "NaN                      2\n",
       "Name: visit_type, dtype: int64"
      ]
     },
     "execution_count": 64,
     "metadata": {},
     "output_type": "execute_result"
    }
   ],
   "source": [
    "df_breast['visit_type'].value_counts(dropna=False)"
   ]
  },
  {
   "cell_type": "markdown",
   "metadata": {},
   "source": [
    "# 2. Drop entries missing both EMPI and MRN fields (10 rows). Then fill in patients missing EMPI with their MRN"
   ]
  },
  {
   "cell_type": "code",
   "execution_count": 62,
   "metadata": {
    "collapsed": false
   },
   "outputs": [
    {
     "name": "stdout",
     "output_type": "stream",
     "text": [
      "6251\n"
     ]
    }
   ],
   "source": [
    "# drop missing ids\n",
    "df_missing_ids = df_breast[(df_breast['EMPI'] != df_breast['EMPI']) & (df_breast['MRN'] != df_breast['MRN'])]\n",
    "df_breast = df_breast[(df_breast['EMPI'] == df_breast['EMPI']) | (df_breast['MRN'] == df_breast['MRN'])]\n",
    "print len(df_breast.index)"
   ]
  },
  {
   "cell_type": "code",
   "execution_count": 65,
   "metadata": {
    "collapsed": false
   },
   "outputs": [],
   "source": [
    "df_breast.loc[(df_breast['EMPI'] != df_breast['EMPI']), 'EMPI'] = df_breast['MRN']"
   ]
  },
  {
   "cell_type": "markdown",
   "metadata": {},
   "source": [
    "# 3. Select OTVs only and group by identifier number"
   ]
  },
  {
   "cell_type": "code",
   "execution_count": 68,
   "metadata": {
    "collapsed": false
   },
   "outputs": [
    {
     "name": "stdout",
     "output_type": "stream",
     "text": [
      "3009\n"
     ]
    }
   ],
   "source": [
    "df_otvs = df_breast[df_breast['visit_type'] == 'OTV']\n",
    "print len(df_otvs.index)"
   ]
  },
  {
   "cell_type": "code",
   "execution_count": 69,
   "metadata": {
    "collapsed": false
   },
   "outputs": [
    {
     "name": "stdout",
     "output_type": "stream",
     "text": [
      "1122\n"
     ]
    }
   ],
   "source": [
    "print len(pd.unique(df_otvs['EMPI']))"
   ]
  },
  {
   "cell_type": "markdown",
   "metadata": {},
   "source": [
    "# 4. Get the distribution of how many OTVs a patient has. \n",
    "## 321 patients have 1 OTV\n",
    "## 254 patients have 2 OTVs\n",
    "## 249 patients have 3 OTVs\n",
    "## 143 patients have 4 OTVs"
   ]
  },
  {
   "cell_type": "code",
   "execution_count": 75,
   "metadata": {
    "collapsed": false
   },
   "outputs": [
    {
     "name": "stdout",
     "output_type": "stream",
     "text": [
      "1    321\n",
      "2    254\n",
      "3    249\n",
      "4    143\n",
      "5     89\n",
      "6     49\n",
      "7     14\n",
      "8      3\n",
      "dtype: int64\n"
     ]
    }
   ],
   "source": [
    "print df_otvs.groupby('EMPI').size().value_counts()"
   ]
  },
  {
   "cell_type": "markdown",
   "metadata": {},
   "source": [
    "# 5. Creating a table with visits by date\n",
    "## Need MRN to complete it"
   ]
  },
  {
   "cell_type": "code",
   "execution_count": 76,
   "metadata": {
    "collapsed": false
   },
   "outputs": [
    {
     "name": "stdout",
     "output_type": "stream",
     "text": [
      "1122\n"
     ]
    }
   ],
   "source": [
    "df_otvs_by_patient = pd.DataFrame(index=pd.unique(df_otvs['EMPI']), columns=['OTV1', 'OTV2', 'OTV3', 'OTV4', 'OTV5', 'OTV6', 'OTV7', 'OTV8'])\n",
    "print len(df_otvs_by_patient.index)"
   ]
  },
  {
   "cell_type": "code",
   "execution_count": 86,
   "metadata": {
    "collapsed": false
   },
   "outputs": [
    {
     "name": "stdout",
     "output_type": "stream",
     "text": [
      "                    OTV1            OTV2            OTV3            OTV4  \\\n",
      "102226876  12/2/14 10:16    12/8/14 9:32  12/15/14 10:19   12/22/14 9:28   \n",
      "109948880  12/2/14 16:01             NaN             NaN             NaN   \n",
      "109959151   12/5/14 9:19             NaN             NaN             NaN   \n",
      "107275392  12/5/14 11:14  12/12/14 10:58  12/19/14 11:14  12/24/14 11:50   \n",
      "106873989  12/5/14 12:27  12/12/14 12:29  12/19/14 12:36             NaN   \n",
      "\n",
      "                     OTV5 OTV6 OTV7 OTV8  \n",
      "102226876             NaN  NaN  NaN  NaN  \n",
      "109948880             NaN  NaN  NaN  NaN  \n",
      "109959151             NaN  NaN  NaN  NaN  \n",
      "107275392  12/30/14 11:20  NaN  NaN  NaN  \n",
      "106873989             NaN  NaN  NaN  NaN  \n"
     ]
    }
   ],
   "source": [
    "desired_length = len(df_otvs_by_patient.columns.values.tolist())\n",
    "for empi in pd.unique(df_otvs['EMPI']):\n",
    "    dates = df_otvs[df_otvs['EMPI'] == empi].loc[:,'date_of_submission']\n",
    "    df_otvs_by_patient.loc[empi] = np.lib.pad(dates.values, (0, desired_length - dates.values.size), 'constant', constant_values=(0, np.nan))\n",
    "    \n",
    "print df_otvs_by_patient.head()\n",
    "    "
   ]
  }
 ],
 "metadata": {
  "kernelspec": {
   "display_name": "Python 2",
   "language": "python",
   "name": "python2"
  },
  "language_info": {
   "codemirror_mode": {
    "name": "ipython",
    "version": 2
   },
   "file_extension": ".py",
   "mimetype": "text/x-python",
   "name": "python",
   "nbconvert_exporter": "python",
   "pygments_lexer": "ipython2",
   "version": "2.7.10"
  }
 },
 "nbformat": 4,
 "nbformat_minor": 0
}
